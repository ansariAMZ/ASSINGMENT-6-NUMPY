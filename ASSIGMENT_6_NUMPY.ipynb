{
  "nbformat": 4,
  "nbformat_minor": 0,
  "metadata": {
    "colab": {
      "provenance": []
    },
    "kernelspec": {
      "name": "python3",
      "display_name": "Python 3"
    },
    "language_info": {
      "name": "python"
    }
  },
  "cells": [
    {
      "cell_type": "markdown",
      "source": [
        "**Theoretical Questions:**"
      ],
      "metadata": {
        "id": "wxLoomDbnt7J"
      }
    },
    {
      "cell_type": "markdown",
      "source": [
        "**Q.1. Explain the purpose and advantages of NumPy in scientific computing and data analysis. How does it\n",
        "enhance Python's capabilities for numerical operations?**\n",
        "\n",
        "**ANS:**\n",
        "###Purpose and Advantages of NumPy in Scientific Computing and Data Analysis:\n",
        "\n",
        "NumPy (Numerical Python) is a fundamental library for scientific computing and data analysis in Python. It provides support for large, multi-dimensional arrays and matrices, along with a collection of mathematical functions to operate on these data structures efficiently.\n",
        "\n",
        "**How NumPy Enhances Python's Capabilities for Numerical Operations**\n",
        "\n",
        "1.Efficient Handling of Large Datasets\n",
        "\n",
        "NumPy arrays (ndarray) are more efficient than Python lists in terms of memory usage and speed. This is because NumPy uses contiguous memory storage and optimized C-based implementations.\n",
        "\n",
        "\n",
        "2.Faster Computation\n",
        "\n",
        "NumPy's operations are vectorized, meaning they apply operations to entire arrays instead of using Python loops, which significantly improves performance.\n",
        "\n",
        "3.Rich Mathematical Functionality\n",
        "\n",
        "Provides built-in functions for complex mathematical computations such as linear algebra, Fourier transforms, and statistical operations.\n",
        "\n",
        "4.Broadcasting\n",
        "\n",
        "Allows operations between arrays of different shapes without the need for explicit loops, making code more concise and efficient.\n",
        "\n",
        "5.Interoperability with Other Libraries\n",
        "\n",
        "NumPy integrates well with other scientific computing libraries such as SciPy, Pandas, Matplotlib, and scikit-learn.\n",
        "\n",
        "6.Support for Multi-Dimensional Arrays and Matrix Operations\n",
        "\n",
        "Unlike Python lists, NumPy provides efficient multi-dimensional array support, crucial for machine learning, deep learning, and image processing.\n",
        "\n",
        "7.Memory Efficiency\n",
        "\n",
        "NumPy arrays consume less memory compared to Python lists due to their fixed data types and optimized storage.\n",
        "\n",
        "8.Random Number Generation\n",
        "\n",
        "Provides an optimized random module for generating random numbers efficiently, useful in simulations and machine learning.\n",
        "\n",
        "9.Ease of Use and Open-Source Nature\n",
        "\n",
        "NumPy has a simple syntax and is widely used in the scientific community, making it an essential tool for researchers and data analysts.\n",
        "\n",
        "**Conclusion**\n",
        "\n",
        "NumPy enhances Python’s capabilities by providing efficient, high-speed numerical computations, reducing the need for loops, and enabling complex mathematical operations with ease. It serves as the foundation for many other data science and machine learning libraries."
      ],
      "metadata": {
        "id": "uKaUhgmjocDT"
      }
    },
    {
      "cell_type": "markdown",
      "source": [
        "**Q.2. Compare and contrast np.mean() and np.average() functions in NumPy. When would you use one over the\n",
        "other?**\n",
        "\n",
        "**ANS**:\n",
        "###Comparison of np.mean() and np.average() in NumPy\n",
        "\n",
        "Both np.mean() and np.average() are used to compute the average value of an array, but they have key differences in terms of functionality.\n",
        "\n",
        "**Feature**\n",
        "##np.mean()\n",
        "\n",
        "**1.Basic Functionality**:Computes the arithmetic mean of an array.\n",
        "\n",
        "**2.Weights Support**:No support for weights.\n",
        "\n",
        "**3.Formula**:Mean=∑xi/N\n",
        "\n",
        "**4.Default Behavior**:Computes mean along the specified axis (or the entire array if no axis is specified).\n",
        "\n",
        "**5.Performance**:\tGenerally faster, as it performs simple division.\n",
        "\n",
        "##np.average()\n",
        "\n",
        "**1.BASIC FUNCTIONALITY**:Computes the weighted average of an array (can also behave like np.mean() if no weights are given).\n",
        "\n",
        "**2.WEIGHT SUPPORT**:Supports weights via the weights parameter.\n",
        "\n",
        "**3.FORMULA**:\tWeighted Average=∑𝑤𝑖𝑥𝑖/∑𝑤𝑖(if weights are provided).\n",
        "\n",
        "**4.DEFAULT BEHAVIOR**:Computes the weighted or simple average along the specified axis.\n",
        "\n",
        "**5.PERFORMANCE**:Slightly slower when weights are used, as additional computations are required.\n",
        "\n",
        "**When to Use np.mean() vs. np.average()**\n",
        "\n",
        "**Use np.mean() When:**\n",
        "You need a simple arithmetic mean without weights.\n",
        "\n",
        "You want better performance for large datasets where weights are not required.\n",
        "\n",
        "Example: Finding the average score of students in a class.\n",
        "\n",
        "**Use np.average() When:**\n",
        "\n",
        "You need to compute a weighted average, where some values have more importance than others.\n",
        "\n",
        "Example: Calculating the final grade of a student where different assignments have different weightings.\n",
        "\n",
        "**Conclusion**\n",
        "\n",
        "Use np.mean() for a simple mean calculation.\n",
        "\n",
        "Use np.average() when weighting is needed.\n",
        "\n",
        "If no weights are provided, np.average() behaves like np.mean()."
      ],
      "metadata": {
        "id": "yYBXDqX9pvgG"
      }
    },
    {
      "cell_type": "code",
      "source": [
        "import numpy as np\n",
        "\n",
        "data = np.array([10, 20, 30, 40])\n",
        "mean_value = np.mean(data)\n",
        "print(mean_value)  # Output: 25.0\n"
      ],
      "metadata": {
        "colab": {
          "base_uri": "https://localhost:8080/"
        },
        "id": "0nM-7Vp9tcfs",
        "outputId": "f5f098fa-1b51-4c36-d400-62e98b29ec4f"
      },
      "execution_count": 1,
      "outputs": [
        {
          "output_type": "stream",
          "name": "stdout",
          "text": [
            "25.0\n"
          ]
        }
      ]
    },
    {
      "cell_type": "code",
      "source": [
        "data = np.array([10, 20, 30, 40])\n",
        "weights = np.array([1, 2, 3, 4])  # Higher weight for later values\n",
        "weighted_avg = np.average(data, weights=weights)\n",
        "print(weighted_avg)  # Output: 30.0\n"
      ],
      "metadata": {
        "colab": {
          "base_uri": "https://localhost:8080/"
        },
        "id": "F98YGS_8thYJ",
        "outputId": "899b1045-4fc9-469b-d38f-50164dfbe903"
      },
      "execution_count": 2,
      "outputs": [
        {
          "output_type": "stream",
          "name": "stdout",
          "text": [
            "30.0\n"
          ]
        }
      ]
    },
    {
      "cell_type": "markdown",
      "source": [
        "**Q.3. Describe the methods for reversing a NumPy array along different axes. Provide examples for 1D and 2D\n",
        "arrays.**\n",
        "\n",
        "**ANS:** **Reversing a NumPy Array Along Different Axes**\n",
        "\n",
        "NumPy provides several ways to reverse an array, depending on its dimensionality and the axis along which the reversal should occur.\n",
        "\n",
        "1. Reversing a 1D NumPy Array\n",
        "\n",
        "For a one-dimensional array, we can reverse the elements using slicing ([::-1]) or the np.flip() function.\n",
        "\n",
        "2. Reversing a 2D NumPy Array\n",
        "\n",
        "For a 2D array, reversal can be performed along different axes:\n",
        "\n",
        "Conclusion:\n",
        "\n",
        "Use slicing ([::-1]) for quick reversal in 1D arrays.\n",
        "\n",
        "Use np.flip() for more explicit and flexible reversal in both 1D and 2D arrays.\n",
        "\n",
        "Reverse rows with [::-1, :] or np.flip(arr, axis=0).\n",
        "\n",
        "Reverse columns with [:, ::-1] or np.flip(arr, axis=1).\n",
        "\n",
        "Reverse both rows and columns with np.flip(arr)."
      ],
      "metadata": {
        "id": "IOMzYhDptySY"
      }
    },
    {
      "cell_type": "code",
      "source": [
        "import numpy as np\n",
        "\n",
        "arr_1d = np.array([1, 2, 3, 4, 5])\n",
        "reversed_arr = arr_1d[::-1]\n",
        "print(reversed_arr)  # Output: [5 4 3 2 1]\n"
      ],
      "metadata": {
        "colab": {
          "base_uri": "https://localhost:8080/"
        },
        "id": "CgRWO8Z-0Nnj",
        "outputId": "89c47919-8e8a-496b-8ced-f0c94a9adeb3"
      },
      "execution_count": 5,
      "outputs": [
        {
          "output_type": "stream",
          "name": "stdout",
          "text": [
            "[5 4 3 2 1]\n"
          ]
        }
      ]
    },
    {
      "cell_type": "code",
      "source": [
        "reversed_arr = np.flip(arr_1d)\n",
        "print(reversed_arr)  # Output: [5 4 3 2 1]\n"
      ],
      "metadata": {
        "colab": {
          "base_uri": "https://localhost:8080/"
        },
        "id": "CX-Rod510Tjb",
        "outputId": "22d0c3ac-174c-48a4-83e2-0769a9b7b4b1"
      },
      "execution_count": 2,
      "outputs": [
        {
          "output_type": "stream",
          "name": "stdout",
          "text": [
            "[5 4 3 2 1]\n"
          ]
        }
      ]
    },
    {
      "cell_type": "markdown",
      "source": [
        "**Q.4. How can you determine the data type of elements in a NumPy array? Discuss the importance of data types\n",
        "in memory management and performance.**\n",
        "\n",
        "**ANS:**\n",
        "###Determining the Data Type of Elements in a NumPy Array In NumPy, the data type of elements in an array can be determined using the dtype attribute\n",
        "\n",
        "Changing Data Type Explicitly (dtype Parameter)\n",
        "\n",
        "When creating a NumPy array, you can specify the data type explicitly:\n",
        "\n",
        "Checking Data Type of Each Element (arr.itemsize)\n",
        "\n",
        "To check the number of bytes used by each element\n",
        "\n",
        "Checking Data Type Using np.result_type()\n",
        "\n",
        "If multiple arrays or scalars are involved in an operation:\n",
        "\n",
        "Importance of Data Types in Memory Management and Performance\n",
        "\n",
        "1. Memory Efficiency\n",
        "\n",
        "NumPy arrays consume less memory compared to Python lists because they use fixed-size data types.\n",
        "\n",
        "Choosing a smaller data type (e.g., int8 vs. int64) can save significant memory in large datasets.\n",
        "\n",
        "2. Performance Optimization\n",
        "\n",
        "Smaller data types lead to faster computations because they require fewer bytes to process.\n",
        "\n",
        "Floating-point operations on float32 are generally faster than float64 due to reduced memory access time.\n",
        "\n",
        "3. Avoiding Type Mismatch and Conversion Overhead\n",
        "\n",
        "NumPy automatically upcasts data types when necessary, but this can cause unnecessary memory usage."
      ],
      "metadata": {
        "id": "u4kSCinO02x2"
      }
    },
    {
      "cell_type": "code",
      "source": [
        "arr_int8 = np.array([1, 2, 3, 4], dtype=np.int8)\n",
        "arr_int64 = np.array([1, 2, 3, 4], dtype=np.int64)\n",
        "\n",
        "print(arr_int8.nbytes)  # Output: 4 bytes (1 byte per element)\n",
        "print(arr_int64.nbytes)  # Output: 32 bytes (8 bytes per element)\n"
      ],
      "metadata": {
        "colab": {
          "base_uri": "https://localhost:8080/"
        },
        "id": "x_Cx6PUI2Ykf",
        "outputId": "5a6de022-90fa-40f5-c0b1-715c6c95221c"
      },
      "execution_count": 6,
      "outputs": [
        {
          "output_type": "stream",
          "name": "stdout",
          "text": [
            "4\n",
            "32\n"
          ]
        }
      ]
    },
    {
      "cell_type": "code",
      "source": [
        "arr_float32 = np.array([1.0, 2.0, 3.0], dtype=np.float32)\n",
        "arr_float64 = np.array([1.0, 2.0, 3.0], dtype=np.float64)\n",
        "\n",
        "print(arr_float32.nbytes, arr_float64.nbytes)  # Output: 12 bytes vs. 24 bytes\n"
      ],
      "metadata": {
        "colab": {
          "base_uri": "https://localhost:8080/"
        },
        "id": "ok6EkJwX2bhB",
        "outputId": "1e325b5a-6019-4eaf-823d-632ae3510302"
      },
      "execution_count": 7,
      "outputs": [
        {
          "output_type": "stream",
          "name": "stdout",
          "text": [
            "12 24\n"
          ]
        }
      ]
    },
    {
      "cell_type": "code",
      "source": [
        "arr = np.array([1, 2, 3.5])  # Contains an integer and a float\n",
        "print(arr.dtype)  # Output: float64 (to accommodate 3.5)\n"
      ],
      "metadata": {
        "colab": {
          "base_uri": "https://localhost:8080/"
        },
        "id": "LSFwwTlI2e8Q",
        "outputId": "a9dda6dd-652a-460a-bf3f-4cd524f141ed"
      },
      "execution_count": 8,
      "outputs": [
        {
          "output_type": "stream",
          "name": "stdout",
          "text": [
            "float64\n"
          ]
        }
      ]
    },
    {
      "cell_type": "markdown",
      "source": [
        "**Q5. Define ndarrays in NumPy and explain their key features. How do they differ from standard Python lists?**\n",
        "\n",
        "**ANS:** Definition of ndarrays in NumPy\n",
        "\n",
        "In NumPy, an ndarray (n-dimensional array) is a powerful multi-dimensional array object that provides fast and efficient operations on large datasets. It is the core data structure of NumPy and is represented by the numpy.ndarray class.\n",
        "\n",
        "**Key Features of ndarrays**\n",
        "\n",
        "1.Homogeneous Data: All elements in an ndarray must be of the same data type (e.g., integers, floats, or complex numbers), ensuring efficient memory usage.\n",
        "\n",
        "2.Fixed Size: Unlike Python lists, the size of an ndarray is fixed once created and cannot be dynamically resized.\n",
        "\n",
        "3.Multi-dimensional Support: NumPy arrays can have one or more dimensions (1D, 2D, 3D, etc.), making them ideal for handling matrices and tensors.\n",
        "\n",
        "4.Efficient Memory Usage: NumPy arrays are stored in a contiguous block of memory, reducing overhead and enabling fast operations.\n",
        "\n",
        "5.Vectorized Operations: NumPy supports element-wise operations, broadcasting, and advanced mathematical functions, making computations significantly faster than using loops with Python lists.\n",
        "\n",
        "6.Support for Advanced Indexing & Slicing: NumPy allows slicing, boolean indexing, and fancy indexing, providing greater flexibility in data manipulation.\n",
        "\n",
        "7.Integration with Other Libraries: Many scientific computing and machine learning libraries (e.g., SciPy, Pandas, TensorFlow) use NumPy arrays for data representation.\n",
        "**Conclusion**\n",
        "\n",
        "NumPy ndarray is a powerful alternative to Python lists, especially for numerical computations. It offers better performance, memory efficiency, and flexibility for handling large datasets and complex mathematical operations."
      ],
      "metadata": {
        "id": "CVZ8lmI93_HW"
      }
    },
    {
      "cell_type": "code",
      "source": [
        "import numpy as np\n",
        "\n",
        "# Creating a NumPy array\n",
        "arr = np.array([1, 2, 3, 4, 5])\n",
        "print(arr)  # Output: [1 2 3 4 5]\n",
        "\n",
        "# Creating a Python list\n",
        "lst = [1, 2, 3, 4, 5]\n",
        "print(lst)  # Output: [1, 2, 3, 4, 5]\n"
      ],
      "metadata": {
        "colab": {
          "base_uri": "https://localhost:8080/"
        },
        "id": "iAoZkhPG4yH-",
        "outputId": "28760dea-9414-4607-f546-d064332dc362"
      },
      "execution_count": 9,
      "outputs": [
        {
          "output_type": "stream",
          "name": "stdout",
          "text": [
            "[1 2 3 4 5]\n",
            "[1, 2, 3, 4, 5]\n"
          ]
        }
      ]
    },
    {
      "cell_type": "code",
      "source": [
        "import time\n",
        "\n",
        "# Large dataset\n",
        "size = 10**6\n",
        "\n",
        "# NumPy array performance\n",
        "arr = np.arange(size)\n",
        "start = time.time()\n",
        "arr_sum = arr + 1  # Vectorized operation\n",
        "end = time.time()\n",
        "print(\"NumPy Time:\", end - start)\n",
        "\n",
        "# Python list performance\n",
        "lst = list(range(size))\n",
        "start = time.time()\n",
        "lst_sum = [x + 1 for x in lst]  # Loop-based operation\n",
        "end = time.time()\n",
        "print(\"List Time:\", end - start)\n"
      ],
      "metadata": {
        "colab": {
          "base_uri": "https://localhost:8080/"
        },
        "id": "_f0MCljy407U",
        "outputId": "7e36b22e-8a53-406b-a3f1-4a5b4e444496"
      },
      "execution_count": 10,
      "outputs": [
        {
          "output_type": "stream",
          "name": "stdout",
          "text": [
            "NumPy Time: 0.005908489227294922\n",
            "List Time: 0.11254215240478516\n"
          ]
        }
      ]
    },
    {
      "cell_type": "markdown",
      "source": [
        "**Q.6. Analyze the performance benefits of NumPy arrays over Python lists for large-scale numerical operations.**\n",
        "\n",
        "**ANS:**Performance Benefits of NumPy Arrays Over Python Lists\n",
        "\n",
        "NumPy arrays (ndarrays) offer significant performance advantages over Python lists, especially for large-scale numerical computations. These benefits come from optimized memory storage, vectorized operations, and low-level implementation in C. Below, we analyze the key performance improvements:\n",
        "\n",
        "1. Faster Execution Through Vectorized Operations\n",
        "\n",
        "NumPy avoids explicit loops and uses vectorized operations, which are implemented in optimized C code.\n",
        "\n",
        "Python lists require explicit loops, making operations slower.\n",
        "\n",
        "2. Efficient Memory Usage\n",
        "\n",
        "Python lists store references to objects, consuming more memory.\n",
        "\n",
        "NumPy arrays use contiguous memory blocks with a single data type, reducing memory overhead.\n",
        "\n",
        "3. Broadcasting: Avoiding Unnecessary Loops\n",
        "\n",
        "NumPy broadcasting allows element-wise operations between arrays of different shapes without explicit loops.\n",
        "\n",
        "Python lists require manual iteration or nested loops.\n",
        "\n",
        "4. Optimized Low-Level Implementation\n",
        "\n",
        "NumPy is implemented in C and Fortran, providing low-level optimizations.\n",
        "\n",
        "Python lists rely on high-level dynamic typing, making them slower in computational tasks.\n",
        "\n",
        "5. Parallel Processing and Multi-threading\n",
        "\n",
        "NumPy operations utilize multi-threading and SIMD (Single Instruction Multiple Data) under the hood, while Python lists are limited by the Global Interpreter Lock (GIL).\n",
        "\n",
        "**Conclusion**\n",
        "\n",
        "NumPy arrays outperform Python lists in speed, memory efficiency, and ease of use for large-scale numerical operations. Key advantages include:\n",
        "\n",
        "\n",
        "Less Memory Usage: NumPy arrays are more memory-efficient due to their contiguous storage and homogeneous data type.\n",
        "\n",
        "Faster Execution: Vectorized operations eliminate Python loops, making computations significantly faster.\n",
        "\n",
        "Broadcasting: Enables efficient computation without explicit iteration.\n",
        "\n",
        "Optimized Built-in Functions: NumPy’s mathematical functions are written in C for high performance.\n",
        "\n",
        "Parallel Processing: Uses multi-threading, unlike Python lists.\n",
        "\n",
        "For scientific computing, machine learning, and data analysis, NumPy is the preferred choice over Python lists. 🚀"
      ],
      "metadata": {
        "id": "Bap53hoD48bG"
      }
    },
    {
      "cell_type": "code",
      "source": [
        "import numpy as np\n",
        "import time\n",
        "\n",
        "size = 10**6  # Large dataset\n",
        "\n",
        "# NumPy array\n",
        "arr = np.arange(size)\n",
        "start = time.time()\n",
        "arr_result = arr * 2  # Vectorized multiplication\n",
        "end = time.time()\n",
        "print(\"NumPy Time:\", end - start)\n",
        "\n",
        "# Python list\n",
        "lst = list(range(size))\n",
        "start = time.time()\n",
        "lst_result = [x * 2 for x in lst]  # List comprehension (loop-based)\n",
        "end = time.time()\n",
        "print(\"List Time:\", end - start)\n"
      ],
      "metadata": {
        "colab": {
          "base_uri": "https://localhost:8080/"
        },
        "id": "KKI0ZFzK6Il0",
        "outputId": "5f1547b2-fd4b-40be-eb90-ca826c157111"
      },
      "execution_count": 11,
      "outputs": [
        {
          "output_type": "stream",
          "name": "stdout",
          "text": [
            "NumPy Time: 0.009866714477539062\n",
            "List Time: 0.09324407577514648\n"
          ]
        }
      ]
    },
    {
      "cell_type": "code",
      "source": [
        "import sys\n",
        "\n",
        "size = 1000000  # Large dataset\n",
        "\n",
        "# NumPy array\n",
        "arr = np.arange(size, dtype=np.int32)\n",
        "print(\"NumPy Memory (bytes):\", arr.nbytes)\n",
        "\n",
        "# Python list\n",
        "lst = list(range(size))\n",
        "print(\"Python List Memory (bytes):\", sys.getsizeof(lst) + sum(sys.getsizeof(x) for x in lst))\n"
      ],
      "metadata": {
        "colab": {
          "base_uri": "https://localhost:8080/"
        },
        "id": "y0NGcB-R6L1A",
        "outputId": "3e7560e6-ab8e-453b-a94c-c5aec09c4a49"
      },
      "execution_count": 12,
      "outputs": [
        {
          "output_type": "stream",
          "name": "stdout",
          "text": [
            "NumPy Memory (bytes): 4000000\n",
            "Python List Memory (bytes): 36000056\n"
          ]
        }
      ]
    },
    {
      "cell_type": "code",
      "source": [
        "arr = np.array([1, 2, 3, 4, 5])\n",
        "print(arr + 10)  # NumPy automatically broadcasts\n",
        "\n",
        "# Python list (manual loop required)\n",
        "lst = [1, 2, 3, 4, 5]\n",
        "print([x + 10 for x in lst])  # Slower and less efficient\n"
      ],
      "metadata": {
        "colab": {
          "base_uri": "https://localhost:8080/"
        },
        "id": "QwLLocsJ6Oqj",
        "outputId": "a640d38d-ec32-4182-ca3e-887147a8f66f"
      },
      "execution_count": 13,
      "outputs": [
        {
          "output_type": "stream",
          "name": "stdout",
          "text": [
            "[11 12 13 14 15]\n",
            "[11, 12, 13, 14, 15]\n"
          ]
        }
      ]
    },
    {
      "cell_type": "code",
      "source": [
        "size = 1000000\n",
        "\n",
        "# NumPy dot product\n",
        "arr1 = np.random.rand(size)\n",
        "arr2 = np.random.rand(size)\n",
        "start = time.time()\n",
        "dot_product = np.dot(arr1, arr2)  # Optimized C implementation\n",
        "end = time.time()\n",
        "print(\"NumPy Dot Product Time:\", end - start)\n",
        "\n",
        "# Python list dot product\n",
        "lst1 = list(np.random.rand(size))\n",
        "lst2 = list(np.random.rand(size))\n",
        "start = time.time()\n",
        "dot_product_list = sum(x * y for x, y in zip(lst1, lst2))  # Manual loop\n",
        "end = time.time()\n",
        "print(\"Python List Dot Product Time:\", end - start)\n"
      ],
      "metadata": {
        "colab": {
          "base_uri": "https://localhost:8080/"
        },
        "id": "fSNkG9RD6R0i",
        "outputId": "f9aa4e62-47fa-4e03-f504-93bb064693ac"
      },
      "execution_count": 14,
      "outputs": [
        {
          "output_type": "stream",
          "name": "stdout",
          "text": [
            "NumPy Dot Product Time: 0.0018596649169921875\n",
            "Python List Dot Product Time: 0.21775078773498535\n"
          ]
        }
      ]
    },
    {
      "cell_type": "code",
      "source": [
        "arr = np.random.rand(1000000)\n",
        "%timeit arr + arr  # Uses parallel execution internally\n"
      ],
      "metadata": {
        "colab": {
          "base_uri": "https://localhost:8080/"
        },
        "id": "tMksANSr7Tzl",
        "outputId": "036a4c5c-1f78-4d57-e7e6-6a9836adc9eb"
      },
      "execution_count": 15,
      "outputs": [
        {
          "output_type": "stream",
          "name": "stdout",
          "text": [
            "1.21 ms ± 138 µs per loop (mean ± std. dev. of 7 runs, 1000 loops each)\n"
          ]
        }
      ]
    },
    {
      "cell_type": "markdown",
      "source": [
        "**Q.7. Compare vstack() and hstack() functions in NumPy. Provide examples demonstrating their usage and\n",
        "output**\n",
        "\n",
        "**ANS:**Comparison of vstack() and hstack() in NumPy\n",
        "\n",
        "In NumPy, the functions vstack() (vertical stacking) and hstack() (horizontal stacking) are used to combine multiple arrays along different axes.\n",
        "\n",
        "**Function**\n",
        "###np.vstack()\n",
        "\n",
        "Stacks Along:\tVertical (Row-wise) → Axis 0\n",
        "\n",
        "Dimension Increased:Adds new rows\n",
        "\n",
        "Behavior: Stacks arrays on top of each other\n",
        "\n",
        "###np.hstack()\n",
        "\n",
        "Stacks Along:\thorizontal  (column -wise) → Axis 1\n",
        "\n",
        "Dimension Increased:Adds new column\n",
        "\n",
        "Behavior: Stacks arrays side by side.\n",
        "\n",
        "1. vstack() – Vertical Stacking\n",
        "\n",
        "Combines arrays row-wise (along axis=0).\n",
        "\n",
        "The number of columns in all arrays must be the same.\n",
        "\n",
        "2. hstack() – Horizontal Stacking\n",
        "\n",
        "Combines arrays column-wise (along axis=1).\n",
        "\n",
        "The number of rows in all arrays must be the same.\n",
        "\n",
        "Conclusion\n",
        "\n",
        "Use vstack() when stacking arrays vertically (row-wise).\n",
        "\n",
        "Use hstack() when stacking arrays horizontally (column-wise).\n",
        "\n",
        "Ensure that the arrays have matching dimensions in the appropriate direction before stacking.\n"
      ],
      "metadata": {
        "id": "45T1RXiN70js"
      }
    },
    {
      "cell_type": "code",
      "source": [
        "import numpy as np\n",
        "\n",
        "arr1 = np.array([[1, 2], [3, 4]])\n",
        "arr2 = np.array([[5, 6]])\n",
        "\n",
        "result_vstack = np.vstack((arr1, arr2))\n",
        "print(result_vstack)\n"
      ],
      "metadata": {
        "colab": {
          "base_uri": "https://localhost:8080/"
        },
        "id": "pJ9eJtHA9aGP",
        "outputId": "897b151b-753a-4f40-a500-33429b676dba"
      },
      "execution_count": 16,
      "outputs": [
        {
          "output_type": "stream",
          "name": "stdout",
          "text": [
            "[[1 2]\n",
            " [3 4]\n",
            " [5 6]]\n"
          ]
        }
      ]
    },
    {
      "cell_type": "code",
      "source": [
        "arr3 = np.array([[7], [8]])\n",
        "\n",
        "result_hstack = np.hstack((arr1, arr3))\n",
        "print(result_hstack)\n"
      ],
      "metadata": {
        "colab": {
          "base_uri": "https://localhost:8080/"
        },
        "id": "7sU1gg6B9dNF",
        "outputId": "1244508d-f441-460d-e1df-93c9bda4252d"
      },
      "execution_count": 17,
      "outputs": [
        {
          "output_type": "stream",
          "name": "stdout",
          "text": [
            "[[1 2 7]\n",
            " [3 4 8]]\n"
          ]
        }
      ]
    },
    {
      "cell_type": "markdown",
      "source": [
        "**Q.8. Explain the differences between fliplr() and flipud() methods in NumPy, including their effects on various\n",
        "array dimensions**\n",
        "\n",
        "**ANS:**1. fliplr() – Flip Left to Right (Horizontally)\n",
        "\n",
        "Reverses the order of columns, keeping the rows unchanged.\n",
        "\n",
        "Requires a 2D array or higher; does not work on 1D arrays.\n",
        "\n",
        "2. flipud() – Flip Up to Down (Vertically)\n",
        "\n",
        "Reverses the order of rows, keeping the columns unchanged.\n",
        "\n",
        "Works for both 1D and 2D arrays.\n",
        "\n",
        "Conclusion\n",
        "\n",
        "Use fliplr() when you want to reverse the order of columns (flip left to right).\n",
        "\n",
        "Use flipud() when you want to reverse the order of rows (flip top to bottom).\n",
        "\n",
        "flipud() can be applied to 1D and 2D arrays, while fliplr() requires at least a 2D array."
      ],
      "metadata": {
        "id": "dsIZ1o4h9v3Z"
      }
    },
    {
      "cell_type": "code",
      "source": [
        "import numpy as np\n",
        "\n",
        "arr = np.array([[1, 2, 3],\n",
        "                [4, 5, 6]])\n",
        "\n",
        "result_fliplr = np.fliplr(arr)\n",
        "print(result_fliplr)\n"
      ],
      "metadata": {
        "colab": {
          "base_uri": "https://localhost:8080/"
        },
        "id": "zgknRpLf-k8g",
        "outputId": "b18ca5ec-96cf-4f16-d844-a3a7f3e47074"
      },
      "execution_count": 18,
      "outputs": [
        {
          "output_type": "stream",
          "name": "stdout",
          "text": [
            "[[3 2 1]\n",
            " [6 5 4]]\n"
          ]
        }
      ]
    },
    {
      "cell_type": "code",
      "source": [
        "result_flipud = np.flipud(arr)\n",
        "print(result_flipud)\n"
      ],
      "metadata": {
        "colab": {
          "base_uri": "https://localhost:8080/"
        },
        "id": "mp_5X5wK-oFv",
        "outputId": "29426f2e-9442-480b-ae4a-ee5fca1a537f"
      },
      "execution_count": 19,
      "outputs": [
        {
          "output_type": "stream",
          "name": "stdout",
          "text": [
            "[[4 5 6]\n",
            " [1 2 3]]\n"
          ]
        }
      ]
    },
    {
      "cell_type": "markdown",
      "source": [
        " **Q.9. Discuss the functionality of the array_split() method in NumPy. How\n",
        "does it handle uneven splits?**\n",
        "\n",
        "**ANS:** Understanding array_split() in NumPy\n",
        "\n",
        "The array_split() method in NumPy is used to split an array into multiple sub-arrays. It is similar to split(), but it can handle cases where the array cannot be evenly divided.\n",
        "\n",
        "**Key Features of array_split()**\n",
        "\n",
        "1.Splits an array into specified parts: It divides an array into a given number of sub-arrays.\n",
        "\n",
        "2.Handles Uneven Splits: If the array size is not evenly divisible, array_split() distributes the extra elements evenly among the first few splits.\n",
        "\n",
        "3.Supports Multiple Axes: You can specify which axis to split along using the axis parameter.\n",
        "\n",
        "**How array_split() Handles Uneven Splits**\n",
        "\n",
        ".If the array length is not evenly divisible by the number of splits, some sub-arrays will have extra elements.\n",
        "\n",
        ".The first few sub-arrays receive the extra elements to maintain the closest even distribution.\n",
        "\n",
        "**Conclusion**\n",
        "\n",
        "array_split() splits arrays into sub-arrays, handling both even and uneven splits.\n",
        "\n",
        "If the array cannot be divided evenly, extra elements are distributed to the first few sub-arrays.\n",
        "\n",
        "It supports splitting along different axes, making it useful for multi-dimensional arrays.\n"
      ],
      "metadata": {
        "id": "Y0N0AEFs-uiF"
      }
    },
    {
      "cell_type": "code",
      "source": [
        "import numpy as np\n",
        "\n",
        "arr = np.array([1, 2, 3, 4, 5, 6])\n",
        "result = np.array_split(arr, 3)  # Splitting into 3 equal parts\n",
        "\n",
        "for subarray in result:\n",
        "    print(subarray)\n"
      ],
      "metadata": {
        "colab": {
          "base_uri": "https://localhost:8080/"
        },
        "id": "1krUKsoe_jgi",
        "outputId": "d0dcb3e4-0f14-4df1-fe97-cfd7b9d9246d"
      },
      "execution_count": 20,
      "outputs": [
        {
          "output_type": "stream",
          "name": "stdout",
          "text": [
            "[1 2]\n",
            "[3 4]\n",
            "[5 6]\n"
          ]
        }
      ]
    },
    {
      "cell_type": "markdown",
      "source": [
        "**Q.10. Explain the concepts of vectorization and broadcasting in NumPy. How do they contribute to efficient array\n",
        "operations?**\n",
        "\n",
        "**ANS:** **Vectorization and Broadcasting in NumPy: Concepts & Efficiency**\n",
        "\n",
        "NumPy provides vectorization and broadcasting, two powerful features that enable fast and memory-efficient array operations. These concepts help eliminate explicit Python loops, leveraging highly optimized C and Fortran implementations.\n",
        "\n",
        "1. Vectorization: Fast Element-wise Operations\n",
        "\n",
        "Definition:\n",
        "Vectorization refers to the ability to perform element-wise operations on entire arrays without using explicit loops. It transforms operations that would typically require loops in Python into efficient, low-level operations executed in compiled C code.\n",
        "\n",
        "Benefits:\n",
        "\n",
        "✅ Faster Execution: Eliminates Python loops, utilizing optimized NumPy functions.\n",
        "\n",
        "✅ Concise Code: More readable and easier to maintain.\n",
        "\n",
        "✅ Memory Efficient: Reduces overhead by leveraging CPU cache and SIMD (Single Instruction Multiple Data).\n",
        "\n",
        "2. Broadcasting: Handling Operations on Different-Shaped Arrays\n",
        "\n",
        "Definition:\n",
        "\n",
        "Broadcasting allows NumPy to perform operations on arrays of different shapes by expanding the smaller array’s dimensions without making actual copies. This avoids memory-intensive operations and makes calculations more efficient.\n",
        "\n",
        "Rules of Broadcasting:\n",
        "\n",
        "If the dimensions match exactly, NumPy performs element-wise operations.\n",
        "\n",
        "If the dimensions differ, NumPy automatically expands the smaller array’s shape to match the larger one.\n",
        "\n",
        "If a dimension has size 1, it is stretched to match the other array’s shape.\n",
        "\n",
        "If dimensions are incompatible, NumPy raises an error.\n",
        "\n",
        "**Conclusion:**\n",
        "\n",
        "✅ Vectorization speeds up numerical computations by removing explicit loops.\n",
        "\n",
        "✅ Broadcasting allows efficient operations on different-shaped arrays without memory overhead.\n",
        "\n",
        "✅ Together, they enable highly optimized computations, making NumPy ideal for scientific computing and machine learning."
      ],
      "metadata": {
        "id": "3_0f9WIM_pSa"
      }
    },
    {
      "cell_type": "code",
      "source": [
        "arr1 = np.array([[1, 2, 3],\n",
        "                 [4, 5, 6]])\n",
        "\n",
        "arr2 = np.array([[10],  # Shape: (2,1)\n",
        "                 [20]])\n",
        "\n",
        "result = arr1 + arr2  # Broadcasting arr2 across columns\n",
        "print(result)\n"
      ],
      "metadata": {
        "colab": {
          "base_uri": "https://localhost:8080/"
        },
        "id": "s-KrcTiLAaUC",
        "outputId": "b8fb8322-438d-40c7-858b-7cd29ce82963"
      },
      "execution_count": 21,
      "outputs": [
        {
          "output_type": "stream",
          "name": "stdout",
          "text": [
            "[[11 12 13]\n",
            " [24 25 26]]\n"
          ]
        }
      ]
    },
    {
      "cell_type": "markdown",
      "source": [
        "**Practical Questions:**"
      ],
      "metadata": {
        "id": "9vUX_NkBAhrh"
      }
    },
    {
      "cell_type": "markdown",
      "source": [
        "**Q.1. Create a 3x3 NumPy array with random integers between 1 and 100. Then, interchange its rows and columns**"
      ],
      "metadata": {
        "id": "9broCVmyApRC"
      }
    },
    {
      "cell_type": "code",
      "source": [
        "import numpy as np\n",
        "\n",
        "# Create a 3x3 array with random integers between 1 and 100\n",
        "arr = np.random.randint(1, 101, (3, 3))\n",
        "\n",
        "print(\"Original Array:\")\n",
        "print(arr)\n",
        "\n",
        "# Interchange rows and columns using transpose\n",
        "transposed_arr = arr.T  # OR use np.transpose(arr)\n",
        "\n",
        "print(\"\\nTransposed Array:\")\n",
        "print(transposed_arr)\n"
      ],
      "metadata": {
        "colab": {
          "base_uri": "https://localhost:8080/"
        },
        "id": "1Ko7hJlwAux2",
        "outputId": "24407d5d-dcb5-4e14-e047-9e0a6675da81"
      },
      "execution_count": 22,
      "outputs": [
        {
          "output_type": "stream",
          "name": "stdout",
          "text": [
            "Original Array:\n",
            "[[16 58 18]\n",
            " [65 76 60]\n",
            " [34 63 75]]\n",
            "\n",
            "Transposed Array:\n",
            "[[16 65 34]\n",
            " [58 76 63]\n",
            " [18 60 75]]\n"
          ]
        }
      ]
    },
    {
      "cell_type": "markdown",
      "source": [
        "**Q.2. Generate a 1D NumPy array with 10 elements. Reshape it into a 2x5 array, then into a 5x2 array.**"
      ],
      "metadata": {
        "id": "v_7czLPzA0T6"
      }
    },
    {
      "cell_type": "code",
      "source": [
        "import numpy as np\n",
        "\n",
        "# Step 1: Create a 1D array with 10 elements\n",
        "arr = np.arange(1, 11)  # Generates numbers from 1 to 10\n",
        "\n",
        "print(\"Original 1D Array:\")\n",
        "print(arr)\n",
        "\n",
        "# Step 2: Reshape into a 2x5 array\n",
        "arr_2x5 = arr.reshape(2, 5)\n",
        "print(\"\\nReshaped to 2x5 Array:\")\n",
        "print(arr_2x5)\n",
        "\n",
        "# Step 3: Reshape into a 5x2 array\n",
        "arr_5x2 = arr.reshape(5, 2)\n",
        "print(\"\\nReshaped to 5x2 Array:\")\n",
        "print(arr_5x2)\n"
      ],
      "metadata": {
        "colab": {
          "base_uri": "https://localhost:8080/"
        },
        "id": "kD94LOHHA2Wq",
        "outputId": "a31453c3-23d1-4479-a2a4-3cb0a73899e8"
      },
      "execution_count": 23,
      "outputs": [
        {
          "output_type": "stream",
          "name": "stdout",
          "text": [
            "Original 1D Array:\n",
            "[ 1  2  3  4  5  6  7  8  9 10]\n",
            "\n",
            "Reshaped to 2x5 Array:\n",
            "[[ 1  2  3  4  5]\n",
            " [ 6  7  8  9 10]]\n",
            "\n",
            "Reshaped to 5x2 Array:\n",
            "[[ 1  2]\n",
            " [ 3  4]\n",
            " [ 5  6]\n",
            " [ 7  8]\n",
            " [ 9 10]]\n"
          ]
        }
      ]
    },
    {
      "cell_type": "markdown",
      "source": [
        "**Q.3. Create a 4x4 NumPy array with random float values. Add a border of zeros around it, resulting in a 6x6 array.**"
      ],
      "metadata": {
        "id": "azdtAU4yBLZJ"
      }
    },
    {
      "cell_type": "code",
      "source": [
        "import numpy as np\n",
        "\n",
        "# Step 1: Create a 4x4 array with random float values\n",
        "arr = np.random.rand(4, 4)  # Random values between 0 and 1\n",
        "\n",
        "print(\"Original 4x4 Array:\")\n",
        "print(arr)\n",
        "\n",
        "# Step 2: Add a border of zeros using np.pad()\n",
        "arr_padded = np.pad(arr, pad_width=1, mode='constant', constant_values=0)\n",
        "\n",
        "print(\"\\n6x6 Array with Zero Border:\")\n",
        "print(arr_padded)\n"
      ],
      "metadata": {
        "colab": {
          "base_uri": "https://localhost:8080/"
        },
        "id": "rDPLX07xBNha",
        "outputId": "337ad3e5-a079-4964-c504-649dad687d6c"
      },
      "execution_count": 24,
      "outputs": [
        {
          "output_type": "stream",
          "name": "stdout",
          "text": [
            "Original 4x4 Array:\n",
            "[[0.38557457 0.1705932  0.19478774 0.66806136]\n",
            " [0.36544939 0.88858365 0.62074906 0.3004847 ]\n",
            " [0.14285798 0.7366616  0.49392138 0.98847756]\n",
            " [0.80432716 0.29655593 0.95427958 0.60472737]]\n",
            "\n",
            "6x6 Array with Zero Border:\n",
            "[[0.         0.         0.         0.         0.         0.        ]\n",
            " [0.         0.38557457 0.1705932  0.19478774 0.66806136 0.        ]\n",
            " [0.         0.36544939 0.88858365 0.62074906 0.3004847  0.        ]\n",
            " [0.         0.14285798 0.7366616  0.49392138 0.98847756 0.        ]\n",
            " [0.         0.80432716 0.29655593 0.95427958 0.60472737 0.        ]\n",
            " [0.         0.         0.         0.         0.         0.        ]]\n"
          ]
        }
      ]
    },
    {
      "cell_type": "markdown",
      "source": [
        "**Q.4. Using NumPy, create an array of integers from 10 to 60 with a step of 5.**"
      ],
      "metadata": {
        "id": "9x5TdMp6BTi-"
      }
    },
    {
      "cell_type": "code",
      "source": [
        "import numpy as np\n",
        "\n",
        "# Create an array of integers from 10 to 60 with a step of 5\n",
        "arr = np.arange(10, 61, 5)\n",
        "\n",
        "print(\"Array of integers from 10 to 60 with step of 5:\")\n",
        "print(arr)\n"
      ],
      "metadata": {
        "colab": {
          "base_uri": "https://localhost:8080/"
        },
        "id": "yIUXZme7MiIP",
        "outputId": "a0feaf66-38dd-4a1b-98d3-cb504cc5b7e0"
      },
      "execution_count": 33,
      "outputs": [
        {
          "output_type": "stream",
          "name": "stdout",
          "text": [
            "Array of integers from 10 to 60 with step of 5:\n",
            "[10 15 20 25 30 35 40 45 50 55 60]\n"
          ]
        }
      ]
    },
    {
      "cell_type": "markdown",
      "source": [
        "**Q.5. Create a NumPy array of strings ['python', 'numpy', 'pandas']. Apply different case transformations\n",
        "(uppercase, lowercase, title case, etc.) to each element.**"
      ],
      "metadata": {
        "id": "j0da7ZCsBX9M"
      }
    },
    {
      "cell_type": "code",
      "source": [
        "import numpy as np\n",
        "\n",
        "# Create a NumPy array of strings\n",
        "arr = np.array(['python', 'numpy', 'pandas'])\n",
        "\n",
        "# Apply different case transformations using np.vectorize\n",
        "\n",
        "# Uppercase transformation\n",
        "uppercase_arr = np.vectorize(str.upper)(arr)\n",
        "\n",
        "# Lowercase transformation\n",
        "lowercase_arr = np.vectorize(str.lower)(arr)\n",
        "\n",
        "# Title case transformation\n",
        "titlecase_arr = np.vectorize(str.title)(arr)\n",
        "\n",
        "# Capitalize transformation\n",
        "capitalize_arr = np.vectorize(str.capitalize)(arr)\n",
        "\n",
        "# Display the results\n",
        "print(\"Original Array:\")\n",
        "print(arr)\n",
        "\n",
        "print(\"\\nUppercase:\")\n",
        "print(uppercase_arr)\n",
        "\n",
        "print(\"\\nLowercase:\")\n",
        "print(lowercase_arr)\n",
        "\n",
        "print(\"\\nTitle Case:\")\n",
        "print(titlecase_arr)\n",
        "\n",
        "print(\"\\nCapitalize:\")\n",
        "print(capitalize_arr)\n"
      ],
      "metadata": {
        "colab": {
          "base_uri": "https://localhost:8080/"
        },
        "id": "8H_N3sGKMbH6",
        "outputId": "1c9ea0f7-7c22-42e6-dc5b-9f906c45064f"
      },
      "execution_count": 32,
      "outputs": [
        {
          "output_type": "stream",
          "name": "stdout",
          "text": [
            "Original Array:\n",
            "['python' 'numpy' 'pandas']\n",
            "\n",
            "Uppercase:\n",
            "['PYTHON' 'NUMPY' 'PANDAS']\n",
            "\n",
            "Lowercase:\n",
            "['python' 'numpy' 'pandas']\n",
            "\n",
            "Title Case:\n",
            "['Python' 'Numpy' 'Pandas']\n",
            "\n",
            "Capitalize:\n",
            "['Python' 'Numpy' 'Pandas']\n"
          ]
        }
      ]
    },
    {
      "cell_type": "markdown",
      "source": [
        "**Q.6. Generate a NumPy array of words. Insert a space between each character of every word in the array.**"
      ],
      "metadata": {
        "id": "ACbbySWDBd4f"
      }
    },
    {
      "cell_type": "code",
      "source": [
        "import numpy as np\n",
        "\n",
        "# Generate a NumPy array of words\n",
        "words = np.array(['hello', 'world', 'numpy', 'array'])\n",
        "\n",
        "# Function to insert spaces between characters of a word\n",
        "def insert_spaces(word):\n",
        "    return ' '.join(word)\n",
        "\n",
        "# Apply the function to each word in the array using np.vectorize\n",
        "vectorized_insert_spaces = np.vectorize(insert_spaces)\n",
        "words_with_spaces = vectorized_insert_spaces(words)\n",
        "\n",
        "print(\"Original Words:\")\n",
        "print(words)\n",
        "\n",
        "print(\"\\nWords with Spaces Between Characters:\")\n",
        "print(words_with_spaces)\n"
      ],
      "metadata": {
        "colab": {
          "base_uri": "https://localhost:8080/"
        },
        "id": "XkIQ4DffMPTB",
        "outputId": "854123c3-fb02-43af-d253-0ec874e7b8f1"
      },
      "execution_count": 31,
      "outputs": [
        {
          "output_type": "stream",
          "name": "stdout",
          "text": [
            "Original Words:\n",
            "['hello' 'world' 'numpy' 'array']\n",
            "\n",
            "Words with Spaces Between Characters:\n",
            "['h e l l o' 'w o r l d' 'n u m p y' 'a r r a y']\n"
          ]
        }
      ]
    },
    {
      "cell_type": "markdown",
      "source": [
        "**Q.7. Create two 2D NumPy arrays and perform element-wise addition, subtraction, multiplication, and division.**"
      ],
      "metadata": {
        "id": "4NSs1FZgBl94"
      }
    },
    {
      "cell_type": "code",
      "source": [
        "import numpy as np\n",
        "\n",
        "# Create two 2D NumPy arrays\n",
        "arr1 = np.array([[10, 20, 30], [40, 50, 60], [70, 80, 90]])\n",
        "arr2 = np.array([[1, 2, 3], [4, 5, 6], [7, 8, 9]])\n",
        "\n",
        "print(\"Array 1:\")\n",
        "print(arr1)\n",
        "\n",
        "print(\"\\nArray 2:\")\n",
        "print(arr2)\n",
        "\n",
        "# Element-wise addition\n",
        "addition_result = arr1 + arr2\n",
        "print(\"\\nElement-wise Addition:\")\n",
        "print(addition_result)\n",
        "\n",
        "# Element-wise subtraction\n",
        "subtraction_result = arr1 - arr2\n",
        "print(\"\\nElement-wise Subtraction:\")\n",
        "print(subtraction_result)\n",
        "\n",
        "# Element-wise multiplication\n",
        "multiplication_result = arr1 * arr2\n",
        "print(\"\\nElement-wise Multiplication:\")\n",
        "print(multiplication_result)\n",
        "\n",
        "# Element-wise division\n",
        "division_result = arr1 / arr2\n",
        "print(\"\\nElement-wise Division:\")\n",
        "print(division_result)\n"
      ],
      "metadata": {
        "colab": {
          "base_uri": "https://localhost:8080/"
        },
        "id": "PsM5i94ZMF3F",
        "outputId": "d323e192-103d-465c-89f8-ef7d819d092d"
      },
      "execution_count": 30,
      "outputs": [
        {
          "output_type": "stream",
          "name": "stdout",
          "text": [
            "Array 1:\n",
            "[[10 20 30]\n",
            " [40 50 60]\n",
            " [70 80 90]]\n",
            "\n",
            "Array 2:\n",
            "[[1 2 3]\n",
            " [4 5 6]\n",
            " [7 8 9]]\n",
            "\n",
            "Element-wise Addition:\n",
            "[[11 22 33]\n",
            " [44 55 66]\n",
            " [77 88 99]]\n",
            "\n",
            "Element-wise Subtraction:\n",
            "[[ 9 18 27]\n",
            " [36 45 54]\n",
            " [63 72 81]]\n",
            "\n",
            "Element-wise Multiplication:\n",
            "[[ 10  40  90]\n",
            " [160 250 360]\n",
            " [490 640 810]]\n",
            "\n",
            "Element-wise Division:\n",
            "[[10. 10. 10.]\n",
            " [10. 10. 10.]\n",
            " [10. 10. 10.]]\n"
          ]
        }
      ]
    },
    {
      "cell_type": "markdown",
      "source": [
        "**Q.8. Use NumPy to create a 5x5 identity matrix, then extract its diagonal elements.**"
      ],
      "metadata": {
        "id": "FRTD1XysBrLD"
      }
    },
    {
      "cell_type": "code",
      "source": [
        "import numpy as np\n",
        "\n",
        "# Step 1: Create a 5x5 identity matrix\n",
        "identity_matrix = np.eye(5)\n",
        "\n",
        "print(\"5x5 Identity Matrix:\")\n",
        "print(identity_matrix)\n",
        "\n",
        "# Step 2: Extract the diagonal elements\n",
        "diagonal_elements = np.diagonal(identity_matrix)\n",
        "\n",
        "print(\"\\nDiagonal Elements:\")\n",
        "print(diagonal_elements)\n"
      ],
      "metadata": {
        "colab": {
          "base_uri": "https://localhost:8080/"
        },
        "id": "kV2mVJ2KL8cD",
        "outputId": "bb0c4769-4b85-4d72-9718-1aa06fbab14b"
      },
      "execution_count": 29,
      "outputs": [
        {
          "output_type": "stream",
          "name": "stdout",
          "text": [
            "5x5 Identity Matrix:\n",
            "[[1. 0. 0. 0. 0.]\n",
            " [0. 1. 0. 0. 0.]\n",
            " [0. 0. 1. 0. 0.]\n",
            " [0. 0. 0. 1. 0.]\n",
            " [0. 0. 0. 0. 1.]]\n",
            "\n",
            "Diagonal Elements:\n",
            "[1. 1. 1. 1. 1.]\n"
          ]
        }
      ]
    },
    {
      "cell_type": "markdown",
      "source": [
        "**Q.9. Generate a NumPy array of 100 random integers between 0 and 1000. Find and display all prime numbers in\n",
        "this array**"
      ],
      "metadata": {
        "id": "1L9KqTMXBve2"
      }
    },
    {
      "cell_type": "code",
      "source": [
        "import numpy as np\n",
        "\n",
        "# Function to check if a number is prime\n",
        "def is_prime(n):\n",
        "    if n < 2:\n",
        "        return False\n",
        "    for i in range(2, int(np.sqrt(n)) + 1):  # Check divisibility up to sqrt(n)\n",
        "        if n % i == 0:\n",
        "            return False\n",
        "    return True\n",
        "\n",
        "# Generate an array of 100 random integers between 0 and 1000\n",
        "np.random.seed(42)  # For reproducibility\n",
        "rand_arr = np.random.randint(0, 1001, 100)\n",
        "\n",
        "# Find prime numbers in the array\n",
        "prime_numbers = np.array([num for num in rand_arr if is_prime(num)])\n",
        "\n",
        "# Display results\n",
        "print(\"Original Array:\")\n",
        "print(rand_arr)\n",
        "\n",
        "print(\"\\nPrime Numbers in the Array:\")\n",
        "print(prime_numbers)\n"
      ],
      "metadata": {
        "colab": {
          "base_uri": "https://localhost:8080/"
        },
        "id": "2pL6lP8wLnBP",
        "outputId": "b6f8c768-c2a5-4f72-ae86-ca183074482a"
      },
      "execution_count": 28,
      "outputs": [
        {
          "output_type": "stream",
          "name": "stdout",
          "text": [
            "Original Array:\n",
            "[102 435 860 270 106  71 700  20 614 121 466 214 330 458  87 372  99 871\n",
            " 663 130 661 308 769 343 491 413 805 385 191 955 276 160 459 313  21 252\n",
            " 747 856 560 474  58 510 681 475 699 975 782 189 957 686 957 562 875 566\n",
            " 243 831 504 130 484 818 646  20 840 166 273 387 600 315  13 241 776 345\n",
            " 564 897 339  91 366 955 454 427 508 775 942  34 205  80 931 561 871 387\n",
            "   1 389 565 105 771 821 476 702 401 729]\n",
            "\n",
            "Prime Numbers in the Array:\n",
            "[ 71 661 769 491 191 313  13 241 389 821 401]\n"
          ]
        }
      ]
    },
    {
      "cell_type": "markdown",
      "source": [
        "**Q.10. Create a NumPy array representing daily temperatures for a month. Calculate and display the weekly\n",
        "averages.**"
      ],
      "metadata": {
        "id": "tB-n7NgYB1Ov"
      }
    },
    {
      "cell_type": "code",
      "source": [
        "import numpy as np\n",
        "\n",
        "# Generate a NumPy array representing daily temperatures for 30 days (random values between 20°C and 35°C)\n",
        "np.random.seed(42)  # For reproducibility\n",
        "daily_temps = np.random.uniform(20, 35, 30)  # 30 random temperatures\n",
        "\n",
        "print(\"Daily Temperatures (°C):\")\n",
        "print(daily_temps)\n",
        "\n",
        "# Reshape the first 28 days into 4 weeks of 7 days\n",
        "weeks = daily_temps[:28].reshape(4, 7)\n",
        "\n",
        "# Compute weekly averages\n",
        "weekly_avg = np.mean(weeks, axis=1)\n",
        "\n",
        "# Handling the remaining 2 days separately\n",
        "remaining_avg = np.mean(daily_temps[28:])  # Average of last 2 days\n",
        "\n",
        "# Display results\n",
        "print(\"\\nWeekly Averages (°C):\")\n",
        "for i, avg in enumerate(weekly_avg, 1):\n",
        "    print(f\"Week {i}: {avg:.2f}°C\")\n",
        "\n",
        "print(f\"\\nRemaining 2 days Average: {remaining_avg:.2f}°C\")\n"
      ],
      "metadata": {
        "colab": {
          "base_uri": "https://localhost:8080/"
        },
        "id": "kWxQ1URNCnVS",
        "outputId": "cb120420-8076-498a-a282-858783f7cf7e"
      },
      "execution_count": 27,
      "outputs": [
        {
          "output_type": "stream",
          "name": "stdout",
          "text": [
            "Daily Temperatures (°C):\n",
            "[25.61810178 34.2607146  30.97990913 28.97987726 22.34027961 22.33991781\n",
            " 20.87125418 32.99264219 29.01672518 30.62108867 20.30876741 34.54864778\n",
            " 32.48663961 23.18508666 22.72737451 22.75106765 24.56363364 27.87134647\n",
            " 26.47917528 24.3684371  29.17779342 22.09240791 24.38216973 25.49542765\n",
            " 26.84104976 31.77763942 22.99510673 27.71351658 28.88621853 20.69675619]\n",
            "\n",
            "Weekly Averages (°C):\n",
            "Week 1: 26.48°C\n",
            "Week 2: 29.02°C\n",
            "Week 3: 25.42°C\n",
            "Week 4: 25.90°C\n",
            "\n",
            "Remaining 2 days Average: 24.79°C\n"
          ]
        }
      ]
    }
  ]
}